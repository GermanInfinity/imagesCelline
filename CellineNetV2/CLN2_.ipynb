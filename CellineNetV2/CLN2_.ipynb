{
  "nbformat": 4,
  "nbformat_minor": 0,
  "metadata": {
    "colab": {
      "name": "CLN2-.ipynb",
      "provenance": []
    },
    "kernelspec": {
      "name": "python3",
      "display_name": "Python 3"
    }
  },
  "cells": [
    {
      "cell_type": "code",
      "metadata": {
        "id": "QLXSDLPw317c",
        "colab_type": "code",
        "colab": {}
      },
      "source": [
        "#Description: CellLineNetsv2 Performance on Breast Cancer cell line classification\n",
        "from __future__ import print_function, division\n",
        "\n",
        "import torch\n",
        "import torch.nn as nn\n",
        "import torch.optim as optim\n",
        "from torch.optim import lr_scheduler\n",
        "import numpy as np\n",
        "import torchvision\n",
        "from torchvision import datasets, models, transforms\n",
        "import matplotlib.pyplot as plt\n",
        "import time\n",
        "import os\n",
        "import copy\n",
        "\n",
        "plt.ion()   # interactive mode"
      ],
      "execution_count": 0,
      "outputs": []
    },
    {
      "cell_type": "code",
      "metadata": {
        "id": "7-Km9KEN37Ga",
        "colab_type": "code",
        "colab": {}
      },
      "source": [
        "# Data augmentation and normalization for training\n",
        "# Just normalization for validation\n",
        "data_transforms = {\n",
        "    'train': transforms.Compose([\n",
        "        transforms.RandomResizedCrop(224),\n",
        "        transforms.RandomHorizontalFlip(),\n",
        "        transforms.ToTensor(),\n",
        "        transforms.Normalize([0.485, 0.456, 0.406], [0.229, 0.224, 0.225])\n",
        "    ]),\n",
        "    'val': transforms.Compose([\n",
        "        transforms.Resize(256),\n",
        "        transforms.CenterCrop(224),\n",
        "        transforms.ToTensor(),\n",
        "        transforms.Normalize([0.485, 0.456, 0.406], [0.229, 0.224, 0.225])\n",
        "    ]),\n",
        "}\n",
        "\n",
        "data_dir = './drive/My Drive/images2'\n",
        "image_datasets = {x: datasets.ImageFolder(os.path.join(data_dir, x),\n",
        "                                          data_transforms[x])\n",
        "                  for x in ['train', 'val']}\n",
        "dataloaders = {x: torch.utils.data.DataLoader(image_datasets[x], batch_size=4,\n",
        "                                             shuffle=True, num_workers=4)\n",
        "              for x in ['train', 'val']}\n",
        "dataset_sizes = {x: len(image_datasets[x]) for x in ['train', 'val']}\n",
        "class_names = image_datasets['train'].classes\n",
        "\n",
        "device = torch.device(\"cuda:0\" if torch.cuda.is_available() else \"cpu\")"
      ],
      "execution_count": 0,
      "outputs": []
    },
    {
      "cell_type": "code",
      "metadata": {
        "id": "hP9TVDkY3_fi",
        "colab_type": "code",
        "outputId": "6e2faf91-f6c5-45a0-c8fb-473acbb32b77",
        "colab": {
          "base_uri": "https://localhost:8080/",
          "height": 68
        }
      },
      "source": [
        "def imshow(inp, title=None):\n",
        "    \"\"\"Imshow for Tensor.\"\"\"\n",
        "    inp = inp.numpy().transpose((1, 2, 0))\n",
        "    mean = np.array([0.485, 0.456, 0.406])\n",
        "    std = np.array([0.229, 0.224, 0.225])\n",
        "    inp = std * inp + mean\n",
        "    inp = np.clip(inp, 0, 1)\n",
        "    plt.imshow(inp)\n",
        "    if title is not None:\n",
        "        plt.title(title)\n",
        "    plt.pause(0.001)  # pause a bit so that plots are updated\n",
        "\n",
        "\n",
        "# Get a batch of training data\n",
        "inputs, classes = next(iter(dataloaders['train']))\n",
        "print (classes)\n",
        "print (inputs.size())\n",
        "# Make a grid from batch\n",
        "out = torchvision.utils.make_grid(inputs)\n",
        "\n",
        "#imshow(out, title=[class_names[x] for x in classes])\n",
        "print (class_names)"
      ],
      "execution_count": 41,
      "outputs": [
        {
          "output_type": "stream",
          "text": [
            "tensor([3, 4, 4, 1])\n",
            "torch.Size([4, 3, 224, 224])\n",
            "['HC11', 'MCF10A', 'MCF12A', 'MCF7', 'MDA-MB-468']\n"
          ],
          "name": "stdout"
        }
      ]
    },
    {
      "cell_type": "code",
      "metadata": {
        "id": "Qg2vUR41fVJ6",
        "colab_type": "code",
        "colab": {
          "base_uri": "https://localhost:8080/",
          "height": 51
        },
        "outputId": "62cab9c0-ba50-40f6-d2bf-7b33c347837c"
      },
      "source": [
        "for inputs, labels in dataloaders['train']:\n",
        "    print (inputs.size())\n",
        "    print (labels.size())\n",
        "    output = model(inputs)\n",
        "    break\n",
        "#print (output)"
      ],
      "execution_count": 38,
      "outputs": [
        {
          "output_type": "stream",
          "text": [
            "torch.Size([4, 3, 224, 224])\n",
            "torch.Size([4])\n"
          ],
          "name": "stdout"
        }
      ]
    },
    {
      "cell_type": "code",
      "metadata": {
        "id": "gmjAzpm34NLq",
        "colab_type": "code",
        "colab": {}
      },
      "source": [
        "def train_model(model, criterion, optimizer, scheduler, num_epochs=25):\n",
        "    since = time.time()\n",
        "\n",
        "    best_model_wts = copy.deepcopy(model.state_dict())\n",
        "    best_acc = 0.0\n",
        "\n",
        "    for epoch in range(num_epochs):\n",
        "        print('Epoch {}/{}'.format(epoch, num_epochs - 1))\n",
        "        print('-' * 10)\n",
        "\n",
        "        # Each epoch has a training and validation phase\n",
        "        for phase in ['train', 'val']:\n",
        "            if phase == 'train':\n",
        "                model.train()  # Set model to training mode\n",
        "            else:\n",
        "                model.eval()   # Set model to evaluate mode\n",
        "\n",
        "            running_loss = 0.0\n",
        "            running_corrects = 0\n",
        "\n",
        "            # Iterate over data.\n",
        "            for inputs, labels in dataloaders[phase]:\n",
        "                inputs = inputs.to(device)\n",
        "                labels = labels.to(device)\n",
        "\n",
        "                # zero the parameter gradients\n",
        "                optimizer.zero_grad()\n",
        "\n",
        "                # forward\n",
        "                # track history if only in train\n",
        "                with torch.set_grad_enabled(phase == 'train'):\n",
        "                    outputs = model(inputs)\n",
        "                    _, preds = torch.max(outputs, 1)\n",
        "                    loss = criterion(outputs, labels)\n",
        "\n",
        "                    # backward + optimize only if in training phase\n",
        "                    if phase == 'train':\n",
        "                        loss.backward()\n",
        "                        optimizer.step()\n",
        "\n",
        "                # statistics\n",
        "                running_loss += loss.item() * inputs.size(0)\n",
        "                running_corrects += torch.sum(preds == labels.data)\n",
        "            if phase == 'train':\n",
        "                scheduler.step()\n",
        "\n",
        "            epoch_loss = running_loss / dataset_sizes[phase]\n",
        "            epoch_acc = running_corrects.double() / dataset_sizes[phase]\n",
        "\n",
        "            print('{} Loss: {:.4f} Acc: {:.4f}'.format(\n",
        "                phase, epoch_loss, epoch_acc))\n",
        "\n",
        "            # deep copy the model\n",
        "            if phase == 'val' and epoch_acc > best_acc:\n",
        "                best_acc = epoch_acc\n",
        "                best_model_wts = copy.deepcopy(model.state_dict())\n",
        "\n",
        "        print()\n",
        "\n",
        "    time_elapsed = time.time() - since\n",
        "    print('Training complete in {:.0f}m {:.0f}s'.format(\n",
        "        time_elapsed // 60, time_elapsed % 60))\n",
        "    print('Best val Acc: {:4f}'.format(best_acc))\n",
        "\n",
        "    # load best model weights\n",
        "    model.load_state_dict(best_model_wts)\n",
        "    return model"
      ],
      "execution_count": 0,
      "outputs": []
    },
    {
      "cell_type": "code",
      "metadata": {
        "id": "65L7qBDX4QVk",
        "colab_type": "code",
        "colab": {}
      },
      "source": [
        "def visualize_model(model, num_images=6):\n",
        "    was_training = model.training\n",
        "    model.eval()\n",
        "    images_so_far = 0\n",
        "    fig = plt.figure()\n",
        "\n",
        "    with torch.no_grad():\n",
        "        for i, (inputs, labels) in enumerate(dataloaders['val']):\n",
        "            inputs = inputs.to(device)\n",
        "            labels = labels.to(device)\n",
        "\n",
        "            outputs = model(inputs)\n",
        "            _, preds = torch.max(outputs, 1)\n",
        "\n",
        "            for j in range(inputs.size()[0]):\n",
        "                images_so_far += 1\n",
        "                ax = plt.subplot(num_images//2, 2, images_so_far)\n",
        "                ax.axis('off')\n",
        "                ax.set_title('predicted: {}'.format(class_names[preds[j]]))\n",
        "                imshow(inputs.cpu().data[j])\n",
        "\n",
        "                if images_so_far == num_images:\n",
        "                    model.train(mode=was_training)\n",
        "                    return\n",
        "                    \n",
        "        model.train(mode=was_training)"
      ],
      "execution_count": 0,
      "outputs": []
    },
    {
      "cell_type": "code",
      "metadata": {
        "id": "NUEa3M6TYnsw",
        "colab_type": "code",
        "colab": {}
      },
      "source": [
        "class CellLineNet(nn.Module):\n",
        "    def __init__(self, num_classes):\n",
        "        super(CellLineNet, self).__init__()\n",
        "        self.model = torch.hub.load('pytorch/vision:v0.6.0', 'mobilenet_v2', pretrained=True)\n",
        "        self.fc1 = nn.Linear(1000, 1000)\n",
        "        self.fc2 = nn.Linear(1000, num_classes)\n",
        "        self.dropout = nn.Dropout(0.3)\n",
        "\n",
        "    def forward(self, x): \n",
        "        x = self.model(x)\n",
        "        x = nn.functional.relu(self.fc1(x))\n",
        "        x = self.dropout(x)\n",
        "        x = self.fc2(x)\n",
        "        return x"
      ],
      "execution_count": 0,
      "outputs": []
    },
    {
      "cell_type": "code",
      "metadata": {
        "id": "qqltSF-I4SgA",
        "colab_type": "code",
        "outputId": "60982239-5701-4ee5-e627-f47ad5bb49ec",
        "colab": {
          "base_uri": "https://localhost:8080/",
          "height": 1000
        }
      },
      "source": [
        "model = torch.hub.load('pytorch/vision:v0.6.0', 'mobilenet_v2', pretrained=True)\n",
        "def set_parameter_requires_grad(model, feature_extracting):\n",
        "    if feature_extracting:\n",
        "        for param in model.parameters():\n",
        "            param.requires_grad = False\n",
        "set_parameter_requires_grad(model, True)\n",
        "\n",
        "model.classifier[1] = nn.Linear(1280,5, bias=True)\n",
        "model = model.to(device)\n",
        "criterion = nn.CrossEntropyLoss()\n",
        "\n",
        "# Observe that all parameters are being optimized\n",
        "optimizer_ft = optim.SGD(model.parameters(), lr=0.001, momentum=0.9)\n",
        "\n",
        "# Decay LR by a factor of 0.1 every 7 epochs\n",
        "exp_lr_scheduler = lr_scheduler.StepLR(optimizer_ft, step_size=7, gamma=0.1)\n",
        "model = train_model(model, criterion, optimizer_ft, exp_lr_scheduler,\n",
        "                        num_epochs=24)"
      ],
      "execution_count": 43,
      "outputs": [
        {
          "output_type": "stream",
          "text": [
            "Epoch 0/23\n",
            "----------\n"
          ],
          "name": "stdout"
        },
        {
          "output_type": "stream",
          "text": [
            "Using cache found in /root/.cache/torch/hub/pytorch_vision_v0.6.0\n"
          ],
          "name": "stderr"
        },
        {
          "output_type": "stream",
          "text": [
            "train Loss: 1.6743 Acc: 0.2857\n",
            "val Loss: 1.9334 Acc: 0.3471\n",
            "\n",
            "Epoch 1/23\n",
            "----------\n",
            "train Loss: 1.5636 Acc: 0.4077\n",
            "val Loss: 1.5638 Acc: 0.3884\n",
            "\n",
            "Epoch 2/23\n",
            "----------\n",
            "train Loss: 1.4110 Acc: 0.4216\n",
            "val Loss: 1.7132 Acc: 0.3306\n",
            "\n",
            "Epoch 3/23\n",
            "----------\n",
            "train Loss: 1.3683 Acc: 0.4530\n",
            "val Loss: 1.3564 Acc: 0.4132\n",
            "\n",
            "Epoch 4/23\n",
            "----------\n",
            "train Loss: 1.4877 Acc: 0.4042\n",
            "val Loss: 0.9713 Acc: 0.6033\n",
            "\n",
            "Epoch 5/23\n",
            "----------\n",
            "train Loss: 1.3162 Acc: 0.4983\n",
            "val Loss: 1.2296 Acc: 0.5702\n",
            "\n",
            "Epoch 6/23\n",
            "----------\n",
            "train Loss: 1.3191 Acc: 0.4948\n",
            "val Loss: 1.0571 Acc: 0.5702\n",
            "\n",
            "Epoch 7/23\n",
            "----------\n",
            "train Loss: 1.0308 Acc: 0.5958\n",
            "val Loss: 0.9421 Acc: 0.6281\n",
            "\n",
            "Epoch 8/23\n",
            "----------\n",
            "train Loss: 1.0873 Acc: 0.5679\n",
            "val Loss: 0.9942 Acc: 0.5868\n",
            "\n",
            "Epoch 9/23\n",
            "----------\n",
            "train Loss: 1.0756 Acc: 0.5854\n",
            "val Loss: 0.9646 Acc: 0.6446\n",
            "\n",
            "Epoch 10/23\n",
            "----------\n",
            "train Loss: 1.0999 Acc: 0.6132\n",
            "val Loss: 1.0872 Acc: 0.5702\n",
            "\n",
            "Epoch 11/23\n",
            "----------\n",
            "train Loss: 1.0212 Acc: 0.6411\n",
            "val Loss: 0.9603 Acc: 0.6364\n",
            "\n",
            "Epoch 12/23\n",
            "----------\n",
            "train Loss: 1.1729 Acc: 0.5575\n",
            "val Loss: 0.9211 Acc: 0.6777\n",
            "\n",
            "Epoch 13/23\n",
            "----------\n",
            "train Loss: 1.1324 Acc: 0.5401\n",
            "val Loss: 0.9219 Acc: 0.6364\n",
            "\n",
            "Epoch 14/23\n",
            "----------\n",
            "train Loss: 1.0269 Acc: 0.6237\n",
            "val Loss: 0.9929 Acc: 0.6116\n",
            "\n",
            "Epoch 15/23\n",
            "----------\n",
            "train Loss: 1.1003 Acc: 0.5749\n",
            "val Loss: 0.9662 Acc: 0.6281\n",
            "\n",
            "Epoch 16/23\n",
            "----------\n",
            "train Loss: 1.0504 Acc: 0.5645\n",
            "val Loss: 0.9311 Acc: 0.6281\n",
            "\n",
            "Epoch 17/23\n",
            "----------\n",
            "train Loss: 1.0864 Acc: 0.5645\n",
            "val Loss: 1.0307 Acc: 0.5868\n",
            "\n",
            "Epoch 18/23\n",
            "----------\n",
            "train Loss: 1.0622 Acc: 0.6028\n",
            "val Loss: 0.9749 Acc: 0.6198\n",
            "\n",
            "Epoch 19/23\n",
            "----------\n",
            "train Loss: 1.1101 Acc: 0.5854\n",
            "val Loss: 0.9330 Acc: 0.6860\n",
            "\n",
            "Epoch 20/23\n",
            "----------\n",
            "train Loss: 1.0455 Acc: 0.5749\n",
            "val Loss: 0.9015 Acc: 0.6364\n",
            "\n",
            "Epoch 21/23\n",
            "----------\n",
            "train Loss: 0.9822 Acc: 0.6167\n",
            "val Loss: 0.9448 Acc: 0.5950\n",
            "\n",
            "Epoch 22/23\n",
            "----------\n",
            "train Loss: 1.1006 Acc: 0.5784\n",
            "val Loss: 0.9381 Acc: 0.6529\n",
            "\n",
            "Epoch 23/23\n",
            "----------\n",
            "train Loss: 1.0623 Acc: 0.6028\n",
            "val Loss: 0.9606 Acc: 0.6529\n",
            "\n",
            "Training complete in 12m 19s\n",
            "Best val Acc: 0.685950\n"
          ],
          "name": "stdout"
        }
      ]
    },
    {
      "cell_type": "code",
      "metadata": {
        "id": "TW9iwMuF4vNY",
        "colab_type": "code",
        "colab": {
          "base_uri": "https://localhost:8080/",
          "height": 581
        },
        "outputId": "d26b34f2-79a1-47ec-b9d6-64a1906a606c"
      },
      "source": [
        "visualize_model(model)"
      ],
      "execution_count": 46,
      "outputs": [
        {
          "output_type": "display_data",
          "data": {
            "image/png": "[encoded data removed]",
            "text/plain": [
              "<Figure size 432x288 with 1 Axes>"
            ]
          },
          "metadata": {
            "tags": [],
            "needs_background": "light"
          }
        },
        {
          "output_type": "display_data",
          "data": {
            "image/png": "[encoded data removed]",
            "text/plain": [
              "<Figure size 432x288 with 1 Axes>"
            ]
          },
          "metadata": {
            "tags": [],
            "needs_background": "light"
          }
        },
        {
          "output_type": "display_data",
          "data": {
            "image/png": "[encoded data removed]",
            "text/plain": [
              "<Figure size 432x288 with 1 Axes>"
            ]
          },
          "metadata": {
            "tags": [],
            "needs_background": "light"
          }
        },
        {
          "output_type": "display_data",
          "data": {
            "image/png": "[encoded data removed]",
            "text/plain": [
              "<Figure size 432x288 with 1 Axes>"
            ]
          },
          "metadata": {
            "tags": [],
            "needs_background": "light"
          }
        },
        {
          "output_type": "display_data",
          "data": {
            "image/png": "[encoded data removed]",
            "text/plain": [
              "<Figure size 432x288 with 1 Axes>"
            ]
          },
          "metadata": {
            "tags": [],
            "needs_background": "light"
          }
        },
        {
          "output_type": "display_data",
          "data": {
            "image/png": "[encoded data removed]",
            "text/plain": [
              "<Figure size 432x288 with 1 Axes>"
            ]
          },
          "metadata": {
            "tags": [],
            "needs_background": "light"
          }
        }
      ]
    },
    {
      "cell_type": "code",
      "metadata": {
        "id": "_YViNnInZuX0",
        "colab_type": "code",
        "colab": {}
      },
      "source": [
        ""
      ],
      "execution_count": 0,
      "outputs": []
    }
  ]
}